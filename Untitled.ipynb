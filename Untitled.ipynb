{
 "cells": [
  {
   "cell_type": "code",
<<<<<<< HEAD
   "execution_count": 1,
   "metadata": {},
=======
   "execution_count": 25,
   "metadata": {
    "collapsed": false
   },
>>>>>>> 70d4993a23986efe2dab590e4f207ff08233007c
   "outputs": [],
   "source": [
    "from scipy import optimize\n",
    "import numpy as np"
   ]
  },
  {
   "cell_type": "code",
<<<<<<< HEAD
   "execution_count": 2,
=======
   "execution_count": 6,
>>>>>>> 70d4993a23986efe2dab590e4f207ff08233007c
   "metadata": {
    "collapsed": true
   },
   "outputs": [],
   "source": [
    "def f(x):   # The rosenbrock function\n",
    "    return 3*x**4-8*x**3+6*x**2-12"
   ]
  },
  {
   "cell_type": "code",
<<<<<<< HEAD
   "execution_count": 3,
   "metadata": {},
=======
   "execution_count": 12,
   "metadata": {
    "collapsed": false
   },
>>>>>>> 70d4993a23986efe2dab590e4f207ff08233007c
   "outputs": [],
   "source": [
    "result = optimize.brute(f, ((-3, 3),))"
   ]
  },
  {
   "cell_type": "code",
   "execution_count": 14,
<<<<<<< HEAD
   "metadata": {},
=======
   "metadata": {
    "collapsed": false
   },
>>>>>>> 70d4993a23986efe2dab590e4f207ff08233007c
   "outputs": [
    {
     "name": "stdout",
     "output_type": "stream",
     "text": [
      "[  1.11022302e-16]\n"
     ]
    }
   ],
   "source": [
    "print(result)"
   ]
  },
  {
   "cell_type": "code",
   "execution_count": 15,
<<<<<<< HEAD
   "metadata": {},
=======
   "metadata": {
    "collapsed": false
   },
>>>>>>> 70d4993a23986efe2dab590e4f207ff08233007c
   "outputs": [
    {
     "name": "stdout",
     "output_type": "stream",
     "text": [
      "     fun: array([-12.])\n",
      "     jac: array([ -1.77635684e-07])\n",
      " message: 'Optimization terminated successfully.'\n",
      "    nfev: 98\n",
      "     nit: 5\n",
      " success: True\n",
      "       x: array([ -1.43476303e-08])\n"
     ]
    }
   ],
   "source": [
    "print(optimize.differential_evolution(f, ((-3, 3),)))"
   ]
  },
  {
   "cell_type": "code",
   "execution_count": 17,
   "metadata": {
    "collapsed": true
   },
   "outputs": [],
   "source": [
    "from sympy import *"
   ]
  },
  {
   "cell_type": "code",
   "execution_count": 19,
<<<<<<< HEAD
   "metadata": {},
=======
   "metadata": {
    "collapsed": false
   },
>>>>>>> 70d4993a23986efe2dab590e4f207ff08233007c
   "outputs": [],
   "source": [
    "x = symbols('x')"
   ]
  },
  {
   "cell_type": "code",
   "execution_count": 20,
<<<<<<< HEAD
   "metadata": {},
=======
   "metadata": {
    "collapsed": false
   },
>>>>>>> 70d4993a23986efe2dab590e4f207ff08233007c
   "outputs": [
    {
     "data": {
      "text/plain": [
       "12*x**3 - 24*x**2 + 12*x"
      ]
     },
     "execution_count": 20,
     "metadata": {},
     "output_type": "execute_result"
    }
   ],
   "source": [
    "diff(3*x**4-8*x**3+6*x**2-12,x)"
   ]
  },
  {
   "cell_type": "code",
   "execution_count": 21,
<<<<<<< HEAD
   "metadata": {},
=======
   "metadata": {
    "collapsed": false
   },
>>>>>>> 70d4993a23986efe2dab590e4f207ff08233007c
   "outputs": [
    {
     "data": {
      "text/plain": [
       "[0, 1]"
      ]
     },
     "execution_count": 21,
     "metadata": {},
     "output_type": "execute_result"
    }
   ],
   "source": [
    " solve(12*x**3 - 24*x**2 + 12*x,x)"
   ]
  },
  {
   "cell_type": "code",
   "execution_count": 22,
   "metadata": {
    "collapsed": true
   },
   "outputs": [],
   "source": [
    "%matplotlib inline\n",
    "from matplotlib import pylab as plt"
   ]
  },
  {
   "cell_type": "code",
   "execution_count": 30,
<<<<<<< HEAD
   "metadata": {},
=======
   "metadata": {
    "collapsed": false
   },
>>>>>>> 70d4993a23986efe2dab590e4f207ff08233007c
   "outputs": [
    {
     "data": {
      "text/plain": [
       "-12"
      ]
     },
     "execution_count": 30,
     "metadata": {},
     "output_type": "execute_result"
    }
   ],
   "source": [
    "f(0)"
   ]
  },
  {
   "cell_type": "code",
   "execution_count": 32,
   "metadata": {
<<<<<<< HEAD
=======
    "collapsed": false,
>>>>>>> 70d4993a23986efe2dab590e4f207ff08233007c
    "scrolled": true
   },
   "outputs": [
    {
     "data": {
      "image/png": "iVBORw0KGgoAAAANSUhEUgAAAYYAAAD8CAYAAABzTgP2AAAABHNCSVQICAgIfAhkiAAAAAlwSFlz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\n",
      "text/plain": [
       "<matplotlib.figure.Figure at 0x7efc76a33320>"
      ]
     },
     "metadata": {},
     "output_type": "display_data"
    }
   ],
   "source": [
    "x = np.arange(-1, 0.5, 0.05)\n",
    "y = f(x)\n",
    "plt.plot(x, y)\n",
    "plt.show()"
   ]
  }
 ],
 "metadata": {
  "kernelspec": {
   "display_name": "Python 3",
   "language": "python",
   "name": "python3"
  },
  "language_info": {
   "codemirror_mode": {
    "name": "ipython",
    "version": 3
   },
   "file_extension": ".py",
   "mimetype": "text/x-python",
   "name": "python",
   "nbconvert_exporter": "python",
   "pygments_lexer": "ipython3",
<<<<<<< HEAD
   "version": "3.5.2"
  }
 },
 "nbformat": 4,
 "nbformat_minor": 1
=======
   "version": "3.6.0"
  }
 },
 "nbformat": 4,
 "nbformat_minor": 0
>>>>>>> 70d4993a23986efe2dab590e4f207ff08233007c
}
